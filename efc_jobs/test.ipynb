{
 "cells": [
  {
   "cell_type": "code",
   "execution_count": 1,
   "metadata": {},
   "outputs": [],
   "source": [
    "from bs4 import BeautifulSoup\n",
    "import requests, yaml, pytz\n",
    "import datetime as dt\n",
    "import pandas as pd"
   ]
  },
  {
   "cell_type": "code",
   "execution_count": 2,
   "metadata": {},
   "outputs": [],
   "source": [
    "efc_url = \"https://www.efinancialcareers.co.uk/jobs/in-United-Kingdom\"\n",
    "\n",
    "url = efc_url"
   ]
  },
  {
   "cell_type": "code",
   "execution_count": 3,
   "metadata": {},
   "outputs": [],
   "source": [
    "def parser():\n",
    "    headers = headers={'User-agent': 'Mozilla/5.0 (X11; Ubuntu; Linux x86_64; rv:61.0) Gecko/20100101 Firefox/61.0'}\n",
    "    content = requests.get(url, headers).content\n",
    "    soup = BeautifulSoup(content, \"html.parser\")\n",
    "\n",
    "    return soup"
   ]
  },
  {
   "cell_type": "code",
   "execution_count": 4,
   "metadata": {},
   "outputs": [],
   "source": [
    "def job_card():\n",
    "    soup = parser()\n",
    "    \n",
    "    efc_jobcard = soup.find('efc-job-search-results').find_all('div', {'class': 'card-info'})\n",
    "\n",
    "    #job_component = [card.find('div', {'class': 'card-info'}) for card in efc_jobcard]\n",
    "    #card_details = [card.find('efc-card-details') for card in efc_jobcard]\n",
    "    #card_footer = [card.find('efc-card-footer') for card in efc_jobcard]\n",
    "        \n",
    "    return efc_jobcard"
   ]
  },
  {
   "cell_type": "code",
   "execution_count": 5,
   "metadata": {},
   "outputs": [],
   "source": [
    "def first_page():\n",
    "    jobcard = job_card()\n",
    "\n",
    "    job_title, company, job_link, location, position_type, work_arrangement, salary = [], [], [], [], [], [], []\n",
    "    job_dct = {}\n",
    "\n",
    "    for item in jobcard:\n",
    "        job_title.append(item.find('h3').text)\n",
    "        company.append(item.find('div', {'class': 'font-body-3'}).text.lstrip().rstrip())\n",
    "        location.append(item.find('span', {'class': 'dot-divider'}).text)\n",
    "    \n",
    "\n",
    "    job_dct = {\"Position\": job_title, \"Company\": company}\n",
    "    final_df = pd.DataFrame(job_dct)\n",
    "    \n",
    "    return final_df"
   ]
  },
  {
   "cell_type": "code",
   "execution_count": 9,
   "metadata": {},
   "outputs": [
    {
     "name": "stdout",
     "output_type": "stream",
     "text": [
      "<span _ngcontent-ng-c3221173188=\"\" class=\"dot-divider\">London, United Kingdom</span>\n",
      "<span _ngcontent-ng-c3221173188=\"\" class=\"dot-divider\">Cardiff, United Kingdom</span>\n",
      "<span _ngcontent-ng-c3221173188=\"\" class=\"dot-divider\">London, United Kingdom</span>\n",
      "<span _ngcontent-ng-c3221173188=\"\" class=\"dot-divider\">London, United Kingdom</span>\n",
      "<span _ngcontent-ng-c3221173188=\"\" class=\"dot-divider\">London, United Kingdom</span>\n",
      "<span _ngcontent-ng-c3221173188=\"\" class=\"dot-divider\">Belfast, United Kingdom</span>\n",
      "<span _ngcontent-ng-c3221173188=\"\" class=\"dot-divider\">London, United Kingdom</span>\n",
      "<span _ngcontent-ng-c3221173188=\"\" class=\"dot-divider\">London, United Kingdom</span>\n",
      "<span _ngcontent-ng-c3221173188=\"\" class=\"dot-divider\">London, United Kingdom</span>\n",
      "<span _ngcontent-ng-c3221173188=\"\" class=\"dot-divider\">London, United Kingdom</span>\n",
      "<span _ngcontent-ng-c3221173188=\"\" class=\"dot-divider\">London, United Kingdom</span>\n",
      "<span _ngcontent-ng-c3221173188=\"\" class=\"dot-divider\">London, United Kingdom</span>\n",
      "<span _ngcontent-ng-c3221173188=\"\" class=\"dot-divider\">London, United Kingdom</span>\n",
      "<span _ngcontent-ng-c3221173188=\"\" class=\"dot-divider\">London, United Kingdom</span>\n",
      "<span _ngcontent-ng-c3221173188=\"\" class=\"dot-divider\">London, United Kingdom</span>\n"
     ]
    }
   ],
   "source": [
    "test = job_card()\n",
    "\n",
    "for item in test:\n",
    "    tmp = item.find('span', {'class': 'dot-divider'})\n",
    "\n",
    "    print(tmp)"
   ]
  }
 ],
 "metadata": {
  "kernelspec": {
   "display_name": "Python 3",
   "language": "python",
   "name": "python3"
  },
  "language_info": {
   "codemirror_mode": {
    "name": "ipython",
    "version": 3
   },
   "file_extension": ".py",
   "mimetype": "text/x-python",
   "name": "python",
   "nbconvert_exporter": "python",
   "pygments_lexer": "ipython3",
   "version": "3.11.9"
  }
 },
 "nbformat": 4,
 "nbformat_minor": 2
}
