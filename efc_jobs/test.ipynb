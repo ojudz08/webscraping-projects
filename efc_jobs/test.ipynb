{
 "cells": [
  {
   "cell_type": "code",
   "execution_count": 1,
   "metadata": {},
   "outputs": [],
   "source": [
    "from bs4 import BeautifulSoup\n",
    "import requests, yaml, pytz\n",
    "import datetime as dt\n",
    "import pandas as pd"
   ]
  },
  {
   "cell_type": "code",
   "execution_count": 2,
   "metadata": {},
   "outputs": [],
   "source": [
    "efc_url = \"https://www.efinancialcareers.co.uk/jobs/in-United-Kingdom\"\n",
    "\n",
    "url = efc_url\n",
    "\n",
    "hr_posted = 0.5\n",
    "min_posted = hr_posted * 60\n",
    "\n",
    "time_now = dt.datetime.now().astimezone(pytz.utc)"
   ]
  },
  {
   "cell_type": "code",
   "execution_count": null,
   "metadata": {},
   "outputs": [],
   "source": [
    "def api_url(page):\n",
    "    with open(\"vars.yaml\", \"r\") as f:\n",
    "        vars = yaml.load(f, Loader = yaml.FullLoader)\n",
    "\n",
    "    url, iter = \"\", 0\n",
    "    for key, val in vars.items():\n",
    "        if iter == 0: pass\n",
    "        elif iter == 4: url += val + str(page) + \"&\"\n",
    "        else: url += val\n",
    "\n",
    "        iter += 1\n",
    "    return url"
   ]
  },
  {
   "cell_type": "code",
   "execution_count": 3,
   "metadata": {},
   "outputs": [],
   "source": [
    "def parser():\n",
    "    headers = headers={'User-agent': 'Mozilla/5.0 (X11; Ubuntu; Linux x86_64; rv:61.0) Gecko/20100101 Firefox/61.0'}\n",
    "    content = requests.get(url, headers).content\n",
    "    soup = BeautifulSoup(content, \"html.parser\")\n",
    "\n",
    "    return soup"
   ]
  },
  {
   "cell_type": "code",
   "execution_count": 4,
   "metadata": {},
   "outputs": [],
   "source": [
    "def job_card():\n",
    "    soup = parser()\n",
    "    \n",
    "    efc_jobcard = soup.find('efc-job-search-results').find_all('div', {'class': 'card-info'})\n",
    "        \n",
    "    return efc_jobcard"
   ]
  },
  {
   "cell_type": "code",
   "execution_count": 5,
   "metadata": {},
   "outputs": [],
   "source": [
    "def first_page():\n",
    "    jobcard = job_card()\n",
    "\n",
    "    job_title, company, job_link, location, position_type, work_arrangement, salary, posted_on = [], [], [], [], [], [], [], []\n",
    "    job_dct = {}\n",
    "\n",
    "    pg = 1\n",
    "    diff_mins = 0\n",
    "    for item in jobcard:\n",
    "        if diff_mins > min_posted: break\n",
    "\n",
    "        job = item.find('h3').text\n",
    "\n",
    "        job_title.append(job)\n",
    "        company.append(item.find('div', {'class': 'font-body-3'}).text.lstrip().rstrip())\n",
    "        job_link.append(item.find('a').get('href'))\n",
    "        location.append(item.find('span', {'class': 'dot-divider'}).text)\n",
    "        position_type.append(item.find('span', {'class': 'dot-divider ng-star-inserted'}).text)\n",
    "\n",
    "        try: work_arrangement.append(item.find('span', {'class': 'dot-divider-after ng-star-inserted'}).text)\n",
    "        except: work_arrangement.append(None)\n",
    "\n",
    "        try: salary.append(item.find('span', {'class': 'dot-divider-after last-job-criteria ng-star-inserted'}).text)\n",
    "        except: salary.append(None)\n",
    "\n",
    "        pdt = posted_date(job, pg)\n",
    "        posted_on.append(pdt)\n",
    "\n",
    "    job_dct = {\"Position\": job_title, \"Company\": company, \"Link\": job_link, \"Location\": location, \"Position Type\": position_type,\n",
    "               \"Work Arrangement\": work_arrangement, \"Salary\": salary, \"Posted Date\": posted_on}\n",
    "    final_df = pd.DataFrame(job_dct)\n",
    "    \n",
    "    return final_df"
   ]
  },
  {
   "cell_type": "code",
   "execution_count": null,
   "metadata": {},
   "outputs": [],
   "source": [
    "from dateutil import parser\n",
    "\n",
    "def posted_date(job, page):\n",
    "    pg_url = api_url(page)\n",
    "    data = requests.get(pg_url).json()['data']\n",
    "\n",
    "    for i in range(0, len(data)):\n",
    "        if job == data[i]['title']:\n",
    "            posted_date = parser.parse(data[i]['postedDate'])\n",
    "            break\n",
    "    \n",
    "    return posted_date\n"
   ]
  },
  {
   "cell_type": "code",
   "execution_count": 6,
   "metadata": {},
   "outputs": [
    {
     "name": "stdout",
     "output_type": "stream",
     "text": [
      "                                             Position              Company  \\\n",
      "0                 Brand, Campaign and Content Manager  Canada Life Limited   \n",
      "1                                            Engineer  Canada Life Limited   \n",
      "2                              Assistant Fund Manager  Canada Life Limited   \n",
      "3                     Operational Procurement Analyst  Canada Life Limited   \n",
      "4   Cloud Solution Engineer/ Software engineer wit...      McCabe & Barton   \n",
      "5           Head of Procurement & Supplier Governance  Canada Life Limited   \n",
      "6               Head of TPRM & Operational Resilience  Canada Life Limited   \n",
      "7             Technology Risk Senior Business Partner  Canada Life Limited   \n",
      "8      Operational Resilience Senior Business Partner  Canada Life Limited   \n",
      "9                         Business Resilience Analyst  Canada Life Limited   \n",
      "10    Senior Operational Risk Analyst- Energy Trading       Charles Levick   \n",
      "11  High Performance C++ Developer - London- Prop ...        Oxford Knight   \n",
      "12          Fund Controller - Global Macro Hedge Fund    Caxton Associates   \n",
      "13    Senior API Designer/Architect - Global Payments          Harvey Nash   \n",
      "14  Internal Audit - Payments/Safeguarding/E-Money...        Tandem Search   \n",
      "\n",
      "                                                 Link  \\\n",
      "0   https://www.efinancialcareers.co.uk/jobs-UK-Po...   \n",
      "1   https://www.efinancialcareers.co.uk/jobs-UK-Po...   \n",
      "2   https://www.efinancialcareers.co.uk/jobs-UK-Lo...   \n",
      "3   https://www.efinancialcareers.co.uk/jobs-UK-Po...   \n",
      "4   https://www.efinancialcareers.co.uk/jobs-UK-Lo...   \n",
      "5   https://www.efinancialcareers.co.uk/jobs-UK-Po...   \n",
      "6   https://www.efinancialcareers.co.uk/jobs-UK-Po...   \n",
      "7   https://www.efinancialcareers.co.uk/jobs-UK-Po...   \n",
      "8   https://www.efinancialcareers.co.uk/jobs-UK-Po...   \n",
      "9   https://www.efinancialcareers.co.uk/jobs-UK-Po...   \n",
      "10  https://www.efinancialcareers.co.uk/jobs-UK-Lo...   \n",
      "11  https://www.efinancialcareers.co.uk/jobs-UK-Lo...   \n",
      "12  https://www.efinancialcareers.co.uk/jobs-UK-Lo...   \n",
      "13  https://www.efinancialcareers.co.uk/jobs-UK-Lo...   \n",
      "14  https://www.efinancialcareers.co.uk/jobs-UK-Lo...   \n",
      "\n",
      "                       Location Position Type Work Arrangement  \\\n",
      "0   Potters Bar, United Kingdom     Permanent             None   \n",
      "1   Potters Bar, United Kingdom     Permanent             None   \n",
      "2        London, United Kingdom     Permanent             None   \n",
      "3   Potters Bar, United Kingdom     Permanent             None   \n",
      "4        London, United Kingdom     Permanent         Flexible   \n",
      "5   Potters Bar, United Kingdom     Permanent             None   \n",
      "6   Potters Bar, United Kingdom     Permanent             None   \n",
      "7   Potters Bar, United Kingdom     Permanent             None   \n",
      "8   Potters Bar, United Kingdom     Permanent             None   \n",
      "9   Potters Bar, United Kingdom     Permanent             None   \n",
      "10       London, United Kingdom     Permanent           Hybrid   \n",
      "11       London, United Kingdom     Permanent             None   \n",
      "12       London, United Kingdom     Permanent           Hybrid   \n",
      "13       London, United Kingdom      Contract           Hybrid   \n",
      "14       London, United Kingdom     Permanent           Hybrid   \n",
      "\n",
      "                             Salary  \n",
      "0                       Competitive  \n",
      "1                       Competitive  \n",
      "2                       Competitive  \n",
      "3                       Competitive  \n",
      "4                  £80,000-£100,000  \n",
      "5                       Competitive  \n",
      "6                       Competitive  \n",
      "7                       Competitive  \n",
      "8                       Competitive  \n",
      "9                       Competitive  \n",
      "10                      £40k - £65k  \n",
      "11                      Competitive  \n",
      "12                      Competitive  \n",
      "13          GBP700 - GBP900 per day  \n",
      "14  £80-90k Base + Bonus + Benefits  \n"
     ]
    }
   ],
   "source": [
    "test = first_page()\n",
    "print(test)\n",
    "\n"
   ]
  }
 ],
 "metadata": {
  "kernelspec": {
   "display_name": "Python 3",
   "language": "python",
   "name": "python3"
  },
  "language_info": {
   "codemirror_mode": {
    "name": "ipython",
    "version": 3
   },
   "file_extension": ".py",
   "mimetype": "text/x-python",
   "name": "python",
   "nbconvert_exporter": "python",
   "pygments_lexer": "ipython3",
   "version": "3.11.9"
  }
 },
 "nbformat": 4,
 "nbformat_minor": 2
}
