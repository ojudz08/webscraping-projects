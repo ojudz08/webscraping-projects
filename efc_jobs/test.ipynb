{
 "cells": [
  {
   "cell_type": "code",
   "execution_count": 114,
   "metadata": {},
   "outputs": [],
   "source": [
    "from bs4 import BeautifulSoup\n",
    "import requests, yaml, pytz\n",
    "import datetime as dt\n",
    "import pandas as pd"
   ]
  },
  {
   "cell_type": "code",
   "execution_count": 115,
   "metadata": {},
   "outputs": [],
   "source": [
    "efc_url = \"https://www.efinancialcareers.co.uk/jobs/in-United-Kingdom\"\n",
    "\n",
    "url = efc_url"
   ]
  },
  {
   "cell_type": "code",
   "execution_count": 116,
   "metadata": {},
   "outputs": [],
   "source": [
    "def parser():\n",
    "    headers = headers={'User-agent': 'Mozilla/5.0 (X11; Ubuntu; Linux x86_64; rv:61.0) Gecko/20100101 Firefox/61.0'}\n",
    "    content = requests.get(url, headers).content\n",
    "    soup = BeautifulSoup(content, \"html.parser\")\n",
    "\n",
    "    return soup"
   ]
  },
  {
   "cell_type": "code",
   "execution_count": 117,
   "metadata": {},
   "outputs": [],
   "source": [
    "def job_card():\n",
    "    soup = parser()\n",
    "    \n",
    "    efc_jobcard = soup.find('div', {'class': 'd-flex flex-column jobs-container ng-star-inserted'}).find_all('efc-job-card')\n",
    "\n",
    "    card_details = [card.find('efc-card-details') for card in efc_jobcard]\n",
    "    card_footer = [card.find('efc-card-footer') for card in efc_jobcard]\n",
    "        \n",
    "    return card_details, card_footer"
   ]
  },
  {
   "cell_type": "code",
   "execution_count": 118,
   "metadata": {},
   "outputs": [],
   "source": [
    "def first_page():\n",
    "    jobcard = job_card()\n",
    "    card_det, card_ftr = jobcard[0], jobcard[1]\n",
    "\n",
    "    job_title, company, job_link, location, position_type, work_arrangement, salary = [], [], [], [], [], [], []\n",
    "    job_dct = {}\n",
    "\n",
    "    for item in card_det:\n",
    "        job_title.append(item.find('a').get('title'))\n",
    "        company.append(item.find_all('div')[3].text.lstrip().rstrip())\n",
    "        job_link.append(item.find('a').get('href'))\n",
    "        location.append(item.find('span' , {'class': 'dot-divider'}).text)\n",
    "        position_type.append(item.find('span' , {'class': 'dot-divider ng-star-inserted'}).text)\n",
    "    \n",
    "    for item in card_ftr:\n",
    "        ln1 = len(item.find_all('div')[1])\n",
    "        ln2 = len(item.find_all('div')[1].find_all('span'))\n",
    "    \n",
    "        if ln1 == 6 and ln2 == 2:\n",
    "            work_arrangement.append(item.find_all('div')[1].find_all('span')[0].text)\n",
    "            salary.append(item.find_all('div')[1].find_all('span')[1].text)\n",
    "        elif (ln1 == 5 and ln2 == 1) or (ln1 == 7 and ln2 == 2):\n",
    "            work_arrangement.append(None)\n",
    "            salary.append(item.find_all('div')[1].find_all('span')[0].text)\n",
    "    \n",
    "    job_dct = {\"Position\": job_title, \"Company\": company, \"Link\": job_link, \"Location\": location, \"Position Type\": position_type,\n",
    "                \"Work Arrangement\": work_arrangement, \"Salary\": salary}\n",
    "    final_df = pd.DataFrame(job_dct)\n",
    "\n",
    "    return final_df"
   ]
  },
  {
   "cell_type": "code",
   "execution_count": 119,
   "metadata": {},
   "outputs": [],
   "source": [
    "def first_page_test():\n",
    "    jobcard = job_card()\n",
    "    card_det, card_ftr = jobcard[0], jobcard[1]\n",
    "\n",
    "    job_title, company, job_link, location, position_type, work_arrangement, salary = [], [], [], [], [], [], []\n",
    "    job_dct = {}\n",
    "\n",
    "    for item in card_det:\n",
    "        job_title.append(item.find('a').get('title'))\n",
    "    \n",
    "    return job_title"
   ]
  },
  {
   "cell_type": "code",
   "execution_count": 120,
   "metadata": {},
   "outputs": [
    {
     "name": "stdout",
     "output_type": "stream",
     "text": [
      "['People Operations Associate -12 month FTC', 'Technical Project Manager', 'Risk Assessor (Servicing Oversight)', 'Servicing Oversight Analyst', 'Technology Solutions Architect', 'Cyber Security Analyst', 'Crypto Validator Deployment and Operation', 'FX Sales - VP/Director', 'Risk Analyst', 'Information security analyst', 'Head of Internal Audit - Commodities and Global Markets Lead', 'Candidate Management Advisor', 'Senior Software Engineer (Python)', 'Financial Crime Risk Advisor, Senior Manager', 'Infrastructure Debt Portfolio Manager']\n"
     ]
    }
   ],
   "source": [
    "test = first_page_test()\n",
    "\n",
    "print(test)"
   ]
  }
 ],
 "metadata": {
  "kernelspec": {
   "display_name": "Python 3",
   "language": "python",
   "name": "python3"
  },
  "language_info": {
   "codemirror_mode": {
    "name": "ipython",
    "version": 3
   },
   "file_extension": ".py",
   "mimetype": "text/x-python",
   "name": "python",
   "nbconvert_exporter": "python",
   "pygments_lexer": "ipython3",
   "version": "3.11.9"
  }
 },
 "nbformat": 4,
 "nbformat_minor": 2
}
