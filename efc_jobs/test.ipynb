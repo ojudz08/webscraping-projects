{
 "cells": [
  {
   "cell_type": "code",
   "execution_count": 1,
   "metadata": {},
   "outputs": [],
   "source": [
    "from bs4 import BeautifulSoup\n",
    "import requests\n",
    "import numpy as np\n",
    "import pandas as pd"
   ]
  },
  {
   "cell_type": "code",
   "execution_count": 2,
   "metadata": {},
   "outputs": [],
   "source": [
    "efc_url = \"https://www.efinancialcareers.co.uk/jobs/in-United-Kingdom\"\n",
    "\n",
    "url = efc_url"
   ]
  },
  {
   "cell_type": "code",
   "execution_count": 3,
   "metadata": {},
   "outputs": [],
   "source": [
    "def parser():\n",
    "    headers = headers={'User-agent': 'Mozilla/5.0 (X11; Ubuntu; Linux x86_64; rv:61.0) Gecko/20100101 Firefox/61.0'}\n",
    "    content = requests.get(url, headers).content\n",
    "    soup = BeautifulSoup(content, \"html.parser\")\n",
    "\n",
    "    return soup"
   ]
  },
  {
   "cell_type": "code",
   "execution_count": 4,
   "metadata": {},
   "outputs": [],
   "source": [
    "def job_card():\n",
    "    soup = parser()\n",
    "    \n",
    "    efc_jobcard = soup.find('div', {'class': 'd-flex flex-column jobs-container ng-star-inserted'}).find_all('efc-job-card')\n",
    "\n",
    "    card_details = [card.find('efc-card-details') for card in efc_jobcard]\n",
    "    card_footer = [card.find('efc-card-footer') for card in efc_jobcard]\n",
    "        \n",
    "    return card_details, card_footer"
   ]
  },
  {
   "cell_type": "code",
   "execution_count": 5,
   "metadata": {},
   "outputs": [],
   "source": [
    "def first_page():\n",
    "        jobcard = job_card()\n",
    "        card_det, card_ftr = jobcard[0], jobcard[1]\n",
    "\n",
    "        job_title, company, job_link, location, position_type, work_arrangement, salary, posted_on = [], [], [], [], [], [], [], []\n",
    "        job_dct = {}\n",
    "\n",
    "        for item in card_det:\n",
    "            job_title.append(item.find('a').get('title'))\n",
    "            company.append(item.find_all('div')[3].text.lstrip().rstrip())\n",
    "            job_link.append(item.find('a').get('href'))\n",
    "            location.append(item.find('span' , {'class': 'dot-divider'}).text)\n",
    "            position_type.append(item.find('span' , {'class': 'dot-divider ng-star-inserted'}).text)\n",
    "        \n",
    "        for item in card_ftr:\n",
    "            ln1 = len(item.find_all('div')[1])\n",
    "            ln2 = len(item.find_all('div')[1].find_all('span'))\n",
    "        \n",
    "            if ln1 == 6 and ln2 == 2:\n",
    "                work_arrangement.append(item.find_all('div')[1].find_all('span')[0].text)\n",
    "                salary.append(item.find_all('div')[1].find_all('span')[1].text)\n",
    "            elif (ln1 == 5 and ln2 == 1) or (ln1 == 7 and ln2 == 2):\n",
    "                work_arrangement.append(None)\n",
    "                salary.append(item.find_all('div')[1].find_all('span')[0].text)\n",
    "\n",
    "            posted_on.append(item.find('efc-job-meta').text.lstrip().rstrip())\n",
    "        \n",
    "        job_dct = {\"Position\": job_title, \"Company\": company, \"Link\": job_link, \"Location\": location, \"Position Type\": position_type,\n",
    "                   \"Work Arrangement\": work_arrangement, \"Salary\": salary, \"Posted On\": posted_on}\n",
    "        final_df = pd.DataFrame(job_dct)\n",
    "\n",
    "        return final_df"
   ]
  },
  {
   "cell_type": "code",
   "execution_count": 7,
   "metadata": {},
   "outputs": [
    {
     "name": "stdout",
     "output_type": "stream",
     "text": [
      "                                             Position         Company  \\\n",
      "0   Principal/Lead Auditor - GFX, Rates and Global...   Deutsche Bank   \n",
      "1               Trade support and settlements analyst  Charles Levick   \n",
      "2                                 Solutions Architect      TEKsystems   \n",
      "3   Business Development Lead (3rd Party Transacti...          Aramco   \n",
      "4                                      .Net Developer      TEKsystems   \n",
      "5   Business Development Lead (Divestments) - Relo...          Aramco   \n",
      "6   Business Development Specialist (Manufacturing...          Aramco   \n",
      "7                         MLRO - (Money Transmission)  Page Executive   \n",
      "8   Business Development Specialist (Mergers & Acq...          Aramco   \n",
      "9   Business Development Lead (Origination & Portf...          Aramco   \n",
      "10  Senior Vice President – Sales Executive - Data...     BNY  Mellon   \n",
      "11  Derivative Risk Solutions - FX Sales - Financi...     Eton Clarke   \n",
      "12                                   Web UI Developer   Deutsche Bank   \n",
      "13                                       KDB Engineer   Deutsche Bank   \n",
      "14                               Senior Java Engineer   Deutsche Bank   \n",
      "\n",
      "                                                 Link  \\\n",
      "0   https://www.efinancialcareers.co.uk/jobs-UK-Lo...   \n",
      "1   https://www.efinancialcareers.co.uk/jobs-UK-Lo...   \n",
      "2   https://www.efinancialcareers.co.uk/jobs-UK-Pe...   \n",
      "3   https://www.efinancialcareers.co.uk/jobs-UK-Lo...   \n",
      "4   https://www.efinancialcareers.co.uk/jobs-UK-Lo...   \n",
      "5   https://www.efinancialcareers.co.uk/jobs-UK-Lo...   \n",
      "6   https://www.efinancialcareers.co.uk/jobs-UK-Lo...   \n",
      "7   https://www.efinancialcareers.co.uk/jobs-UK-Lo...   \n",
      "8   https://www.efinancialcareers.co.uk/jobs-UK-Lo...   \n",
      "9   https://www.efinancialcareers.co.uk/jobs-UK-Lo...   \n",
      "10  https://www.efinancialcareers.co.uk/jobs-UK-Lo...   \n",
      "11  https://www.efinancialcareers.co.uk/jobs-UK-Lo...   \n",
      "12  https://www.efinancialcareers.co.uk/jobs-UK-Lo...   \n",
      "13  https://www.efinancialcareers.co.uk/jobs-UK-Lo...   \n",
      "14  https://www.efinancialcareers.co.uk/jobs-UK-Lo...   \n",
      "\n",
      "                    Location Position Type Work Arrangement  \\\n",
      "0     London, United Kingdom     Permanent           Hybrid   \n",
      "1     London, United Kingdom     Temporary           Hybrid   \n",
      "2   Penicuik, United Kingdom      Contract           Remote   \n",
      "3     London, United Kingdom     Permanent        In-Office   \n",
      "4     London, United Kingdom     Permanent             None   \n",
      "5     London, United Kingdom     Permanent        In-Office   \n",
      "6     London, United Kingdom     Permanent        In-Office   \n",
      "7     London, United Kingdom     Permanent           Hybrid   \n",
      "8     London, United Kingdom     Permanent        In-Office   \n",
      "9     London, United Kingdom     Permanent        In-Office   \n",
      "10    London, United Kingdom     Permanent           Hybrid   \n",
      "11    London, United Kingdom     Permanent             None   \n",
      "12    London, United Kingdom     Permanent             None   \n",
      "13    London, United Kingdom     Permanent             None   \n",
      "14    London, United Kingdom     Permanent             None   \n",
      "\n",
      "                            Salary       Posted On  \n",
      "0                      Competitive  24 minutes ago  \n",
      "1                        £0 - £40k      1 hour ago  \n",
      "2                    Not Specified      1 hour ago  \n",
      "3                          $150000      1 hour ago  \n",
      "4   70000.00 - 75000.00 GBP/Salary      1 hour ago  \n",
      "5                          $150000      1 hour ago  \n",
      "6                          $150000      1 hour ago  \n",
      "7        Up to GBP120000 per annum      1 hour ago  \n",
      "8                          $150000      1 hour ago  \n",
      "9                          $150000      1 hour ago  \n",
      "10                           70000     2 hours ago  \n",
      "11                     Competitive     2 hours ago  \n",
      "12                     Competitive     2 hours ago  \n",
      "13                     Competitive     2 hours ago  \n",
      "14                     Competitive     2 hours ago  \n"
     ]
    }
   ],
   "source": [
    "test = first_page()\n",
    "\n",
    "print(test)"
   ]
  }
 ],
 "metadata": {
  "kernelspec": {
   "display_name": "Python 3",
   "language": "python",
   "name": "python3"
  },
  "language_info": {
   "codemirror_mode": {
    "name": "ipython",
    "version": 3
   },
   "file_extension": ".py",
   "mimetype": "text/x-python",
   "name": "python",
   "nbconvert_exporter": "python",
   "pygments_lexer": "ipython3",
   "version": "3.11.9"
  }
 },
 "nbformat": 4,
 "nbformat_minor": 2
}
