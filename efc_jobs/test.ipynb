{
 "cells": [
  {
   "cell_type": "code",
   "execution_count": 143,
   "metadata": {},
   "outputs": [],
   "source": [
    "from bs4 import BeautifulSoup\n",
    "import requests\n",
    "import numpy as np\n",
    "import pandas as pd"
   ]
  },
  {
   "cell_type": "code",
   "execution_count": 144,
   "metadata": {},
   "outputs": [],
   "source": [
    "def parser(url):\n",
    "    headers = headers={'User-agent': 'Mozilla/5.0 (X11; Ubuntu; Linux x86_64; rv:61.0) Gecko/20100101 Firefox/61.0'}\n",
    "    content = requests.get(url, headers).content\n",
    "    soup = BeautifulSoup(content, \"html.parser\")\n",
    "\n",
    "    return soup"
   ]
  },
  {
   "cell_type": "code",
   "execution_count": 145,
   "metadata": {},
   "outputs": [],
   "source": [
    "def job_card(url):\n",
    "    soup = parser(url)\n",
    "    \n",
    "    efc_jobcard = soup.find('div', {'class': 'd-flex flex-column jobs-container ng-star-inserted'}).find_all('efc-job-card')\n",
    "\n",
    "    card_details = [card.find('efc-card-details') for card in efc_jobcard]\n",
    "    card_footer = [card.find('efc-card-footer') for card in efc_jobcard]\n",
    "        \n",
    "    return card_details, card_footer"
   ]
  },
  {
   "cell_type": "code",
   "execution_count": 146,
   "metadata": {},
   "outputs": [],
   "source": [
    "efc_url = \"https://www.efinancialcareers.co.uk/jobs/in-United-Kingdom\" \n",
    "\n",
    "jcard = job_card(efc_url)\n",
    "cdets, cfter = jcard[0], jcard[1]\n"
   ]
  },
  {
   "cell_type": "code",
   "execution_count": 147,
   "metadata": {},
   "outputs": [
    {
     "name": "stdout",
     "output_type": "stream",
     "text": [
      "[None, None, None, None, None, None, None, None, None, None, None, None, None, None, None]\n"
     ]
    }
   ],
   "source": [
    "\n",
    "job_title, company, job_link, location, position_type = [], [], [], [], []\n",
    "\n",
    "job_dct = {}\n",
    "\n",
    "\n",
    "for item in cdets:\n",
    "    try:\n",
    "        job_title.append(item.find('h3', {'class': 'font-subtitle-3-medium elipsis-2-row ng-star-inserted'}).get_text())\n",
    "        company.append(item.find('div', {'class': 'font-body-3 company col ng-star-inserted'}).get_text().lstrip().rstrip())\n",
    "        \n",
    "    except:\n",
    "        job_title.append(None)\n",
    "        company.append(None)\n",
    "\n",
    "\n",
    "#job_dct = {'Position': job_title, 'Company': company}\n",
    "#final_df = pd.DataFrame(job_dct)\n",
    "#print(final_df)\n",
    "\n",
    "print(job_title)\n"
   ]
  },
  {
   "cell_type": "code",
   "execution_count": 56,
   "metadata": {},
   "outputs": [
    {
     "name": "stdout",
     "output_type": "stream",
     "text": [
      "SPV Accountant\n",
      "Cameron Kennedy \n",
      "https://www.efinancialcareers.co.uk/jobs-UK-London-SPV_Accountant.id21200880\n",
      "London, United Kingdom\n",
      "Contract\n",
      "Hybrid\n",
      "GBP75000 - GBP85000 per annum + Bonus Benefits\n",
      "13 minutes ago \n"
     ]
    }
   ],
   "source": [
    "job_title = [item.find('a').get('title')  for item in cdets][0]\n",
    "company = [item.find('div', {'class': 'font-body-3 company col ng-star-inserted'}).get_text().lstrip() for item in cdets][0]\n",
    "job_link = [item.find('a').get('href')  for item in cdets][0]\n",
    "location = [item.find('span', {'class': 'dot-divider'}).get_text() for item in cdets][0]\n",
    "pos_type = [item.find('span', {'class': 'dot-divider ng-star-inserted'}).get_text() for item in cdets][0]\n",
    "\n",
    "work_arr = [item.find('span', {'class': 'dot-divider-after ng-star-inserted'}).text for item in cfter][0]\n",
    "salary = [item.find('span', {'class': 'dot-divider-after last-job-criteria ng-star-inserted'}).text for item in cfter][0]\n",
    "\n",
    "posted_on = [item.find('span', {'class': 'font-helper-text dot-divider color-font-secondary ng-star-inserted'}).text.lstrip() for item in cfter][0]\n",
    "\n",
    "\n",
    "\n",
    "print(job_position)\n",
    "print(company)\n",
    "print(job_link)\n",
    "print(location)\n",
    "print(pos_type)\n",
    "\n",
    "print(work_arr)\n",
    "print(salary)\n",
    "\n",
    "print(posted_on)"
   ]
  }
 ],
 "metadata": {
  "kernelspec": {
   "display_name": "Python 3",
   "language": "python",
   "name": "python3"
  },
  "language_info": {
   "codemirror_mode": {
    "name": "ipython",
    "version": 3
   },
   "file_extension": ".py",
   "mimetype": "text/x-python",
   "name": "python",
   "nbconvert_exporter": "python",
   "pygments_lexer": "ipython3",
   "version": "3.11.9"
  }
 },
 "nbformat": 4,
 "nbformat_minor": 2
}
