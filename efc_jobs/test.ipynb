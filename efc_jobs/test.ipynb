{
 "cells": [
  {
   "cell_type": "code",
   "execution_count": 14,
   "metadata": {},
   "outputs": [],
   "source": [
    "from bs4 import BeautifulSoup\n",
    "import requests, yaml, pytz\n",
    "import datetime as dt\n",
    "import pandas as pd"
   ]
  },
  {
   "cell_type": "code",
   "execution_count": 15,
   "metadata": {},
   "outputs": [],
   "source": [
    "efc_url = \"https://www.efinancialcareers.co.uk/jobs/in-United-Kingdom\"\n",
    "\n",
    "url = efc_url"
   ]
  },
  {
   "cell_type": "code",
   "execution_count": 16,
   "metadata": {},
   "outputs": [],
   "source": [
    "def parser():\n",
    "    headers = headers={'User-agent': 'Mozilla/5.0 (X11; Ubuntu; Linux x86_64; rv:61.0) Gecko/20100101 Firefox/61.0'}\n",
    "    content = requests.get(url, headers).content\n",
    "    soup = BeautifulSoup(content, \"html.parser\")\n",
    "\n",
    "    return soup"
   ]
  },
  {
   "cell_type": "code",
   "execution_count": 17,
   "metadata": {},
   "outputs": [],
   "source": [
    "def job_card():\n",
    "    soup = parser()\n",
    "    \n",
    "    efc_jobcard = soup.find('efc-job-search-results').find_all('div', {'class': 'card-info'})\n",
    "\n",
    "    #job_component = [card.find('div', {'class': 'card-info'}) for card in efc_jobcard]\n",
    "    #card_details = [card.find('efc-card-details') for card in efc_jobcard]\n",
    "    #card_footer = [card.find('efc-card-footer') for card in efc_jobcard]\n",
    "        \n",
    "    return efc_jobcard"
   ]
  },
  {
   "cell_type": "code",
   "execution_count": 18,
   "metadata": {},
   "outputs": [],
   "source": [
    "def first_page():\n",
    "    jobcard = job_card()\n",
    "\n",
    "    job_title, company, job_link, location, position_type, work_arrangement, salary = [], [], [], [], [], [], []\n",
    "    job_dct = {}\n",
    "\n",
    "    for item in jobcard:\n",
    "        job_title.append(item.find('h3').text)\n",
    "        company.append(item.find('div', {'class': 'font-body-3'}).text.lstrip().rstrip())\n",
    "        job_link.append(item.find('a').get('href'))\n",
    "        location.append(item.find('span', {'class': 'dot-divider'}).text)\n",
    "        position_type.append(item.find('span', {'class': 'dot-divider ng-star-inserted'}).text)\n",
    "\n",
    "        try: work_arrangement.append(item.find('span', {'class': 'dot-divider-after ng-star-inserted'}).text)\n",
    "        except: work_arrangement.append(None)\n",
    "\n",
    "        try: salary.append(item.find('span', {'class': 'dot-divider-after last-job-criteria ng-star-inserted'}).text)\n",
    "        except: salary.append(None)\n",
    "\n",
    "    job_dct = {\"Position\": job_title, \"Company\": company, \"Link\": job_link, \"Location\": location, \"Position Type\": position_type,\n",
    "               \"Work Arrangement\": work_arrangement, \"Salary\": salary}\n",
    "    final_df = pd.DataFrame(job_dct)\n",
    "    \n",
    "    return final_df"
   ]
  },
  {
   "cell_type": "code",
   "execution_count": 19,
   "metadata": {},
   "outputs": [
    {
     "name": "stdout",
     "output_type": "stream",
     "text": [
      "                                             Position          Company  \\\n",
      "0                                Broker Sales Manager   Funding Circle   \n",
      "1                           HR Operations Coordinator   Houlihan Lokey   \n",
      "2                           LIBOR Discontinuation AVP              LMA   \n",
      "3                   Senior Manager Indirect Tax / VAT    Tandem Search   \n",
      "4   Customer Journey Manager/Product Owner - Retai...      Harvey Nash   \n",
      "5   Finance Systems Analyst: SAP Central Finance (...           Aramco   \n",
      "6   Financial Data Scientist: AI (Saudi Arabia based)           Aramco   \n",
      "7          Group Finance Analyst (Saudi Arabia based)           Aramco   \n",
      "8                    M&A Analyst (Saudi Arabia based)           Aramco   \n",
      "9            M&A Finance Analyst (Saudi Arabia based)           Aramco   \n",
      "10              Compliance Associate, Capital Markets           Bovill   \n",
      "11                                     Client Manager  Legal & General   \n",
      "12                   Business Analyst/Project Manager         Quanteam   \n",
      "13  Computer Science Graduate+1 year Python Develo...      Hunter Bond   \n",
      "14                                It Support Engineer       TEKsystems   \n",
      "\n",
      "                                                 Link  \\\n",
      "0   https://www.efinancialcareers.co.uk/jobs-UK-Lo...   \n",
      "1   https://www.efinancialcareers.co.uk/jobs-UK-Lo...   \n",
      "2   https://www.efinancialcareers.co.uk/jobs-UK-Lo...   \n",
      "3   https://www.efinancialcareers.co.uk/jobs-UK-Lo...   \n",
      "4   https://www.efinancialcareers.co.uk/jobs-UK-Br...   \n",
      "5   https://www.efinancialcareers.co.uk/jobs-UK-Lo...   \n",
      "6   https://www.efinancialcareers.co.uk/jobs-UK-Lo...   \n",
      "7   https://www.efinancialcareers.co.uk/jobs-UK-Lo...   \n",
      "8   https://www.efinancialcareers.co.uk/jobs-UK-Lo...   \n",
      "9   https://www.efinancialcareers.co.uk/jobs-UK-Lo...   \n",
      "10  https://www.efinancialcareers.co.uk/jobs-UK-Lo...   \n",
      "11  https://www.efinancialcareers.co.uk/jobs-UK-Lo...   \n",
      "12  https://www.efinancialcareers.co.uk/jobs-UK-Lo...   \n",
      "13  https://www.efinancialcareers.co.uk/jobs-UK-Lo...   \n",
      "14  https://www.efinancialcareers.co.uk/jobs-UK-Am...   \n",
      "\n",
      "                    Location Position Type Work Arrangement  \\\n",
      "0     London, United Kingdom     Permanent           Hybrid   \n",
      "1     London, United Kingdom     Permanent             None   \n",
      "2     London, United Kingdom     Temporary           Hybrid   \n",
      "3     London, United Kingdom     Permanent           Hybrid   \n",
      "4    Bristol, United Kingdom      Contract           Hybrid   \n",
      "5     London, United Kingdom     Permanent             None   \n",
      "6     London, United Kingdom     Permanent             None   \n",
      "7     London, United Kingdom     Permanent             None   \n",
      "8     London, United Kingdom     Permanent             None   \n",
      "9     London, United Kingdom     Permanent             None   \n",
      "10    London, United Kingdom     Permanent             None   \n",
      "11    London, United Kingdom     Permanent             None   \n",
      "12    London, United Kingdom      Contract             None   \n",
      "13    London, United Kingdom     Permanent             None   \n",
      "14  Amesbury, United Kingdom      Contract             None   \n",
      "\n",
      "                       Salary  \n",
      "0                 Competitive  \n",
      "1                 Competitive  \n",
      "2                        £420  \n",
      "3                £80k - £130k  \n",
      "4     GBP500 - GBP600 per day  \n",
      "5                £75k - £150k  \n",
      "6                £75k - £150k  \n",
      "7                £75k - £120k  \n",
      "8                £75k - £120k  \n",
      "9                £75k - £120k  \n",
      "10                Competitive  \n",
      "11        Competitive + Bonus  \n",
      "12                Competitive  \n",
      "13               £80k - £150k  \n",
      "14  100.00 - 110.00 GBP/Daily  \n"
     ]
    }
   ],
   "source": [
    "test = first_page()\n",
    "print(test)\n",
    "\n"
   ]
  }
 ],
 "metadata": {
  "kernelspec": {
   "display_name": "Python 3",
   "language": "python",
   "name": "python3"
  },
  "language_info": {
   "codemirror_mode": {
    "name": "ipython",
    "version": 3
   },
   "file_extension": ".py",
   "mimetype": "text/x-python",
   "name": "python",
   "nbconvert_exporter": "python",
   "pygments_lexer": "ipython3",
   "version": "3.11.9"
  }
 },
 "nbformat": 4,
 "nbformat_minor": 2
}
