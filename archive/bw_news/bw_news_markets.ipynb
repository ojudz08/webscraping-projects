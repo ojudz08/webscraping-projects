{
 "cells": [
  {
   "cell_type": "code",
   "execution_count": 1,
   "id": "7e927b72",
   "metadata": {},
   "outputs": [],
   "source": [
    "from bs4 import BeautifulSoup\n",
    "import requests\n",
    "\n",
    "import multiprocessing as mp\n",
    "import concurrent.futures\n",
    "\n",
    "import time\n",
    "import re\n",
    "import os\n",
    "import pandas as pd"
   ]
  },
  {
   "cell_type": "code",
   "execution_count": 2,
   "id": "17146373",
   "metadata": {},
   "outputs": [],
   "source": [
    "def _parse_content(url):\n",
    "    headers = {'User-agent': 'Mozilla/5.0 (X11; Ubuntu; Linux x86_64; rv:61.0) Gecko/20100101 Firefox/61.0'}\n",
    "    content = BeautifulSoup(requests.get(url, headers).content, \n",
    "                            'html.parser')\n",
    "    return content\n",
    "\n",
    "def _get_markets(inputParam):\n",
    "    \"\"\"helper function\"\"\"\n",
    "    dir_output = r'C:\\Users\\ojell\\Desktop\\Oj\\_Thesis\\Data\\news\\businessworld'\n",
    "    url = inputParam[0]\n",
    "    category = inputParam[1]\n",
    "    lstpage = inputParam[2]\n",
    "    \n",
    "    if lstpage == 9130:\n",
    "        strt = 9001\n",
    "    else:\n",
    "        strt = lstpage - 299\n",
    "    \n",
    "    ArtUrl = []\n",
    "    for pg in range(strt, lstpage + 1):\n",
    "        content = _parse_content(url + f\"page/{str(pg)}/\")\n",
    "        if pg % 50 == 0: time.sleep(10)\n",
    "        next10 = content.find('div', {'class': 'td-ss-main-content'}).find_all('div', {'class': 'td-module-thumb'})\n",
    "        ArtUrl = ArtUrl + [item.find('a').get('href') for item in next10]\n",
    "        dct = {\"Article Url\": ArtUrl, \"Category\": category}\n",
    "    df = pd.DataFrame.from_dict(dct)\n",
    "    filename = category.lower() + f'_{lstpage}' + '.csv'\n",
    "    df.to_csv(os.path.join(dir_output, filename), index=False)\n",
    "    return df\n",
    "\n",
    "def _get_markets_d(inputParam):\n",
    "    pass\n",
    "    \n",
    "    \n",
    "def par_main_Markets(news_url):    \n",
    "    content = _parse_content(news_url)\n",
    "\n",
    "    MarketContent = content.find('div', {'class': 'td-ss-main-content'}).find_all('div')\n",
    "    \n",
    "    pagetab = content.find('div', {'class': 'page-nav td-pb-padding-side'}).find('span', {'class': 'pages'}).text\n",
    "    lstpg = int(re.sub(r'[^\\w\\s]', '', pagetab[-(len(pagetab) - 10):]))\n",
    "    #lstpg_li = [i for i in range(1, lstpg + 1) if i % 300 == 0 or i == lstpg]\n",
    "    lstpg_li = [1500, 3300, 4500, 4800, 6600, 9130]\n",
    "        \n",
    "    output = 0\n",
    "    with concurrent.futures.ThreadPoolExecutor(max_workers=os.cpu_count()) as pool:\n",
    "        futures = [pool.submit(_get_markets, \n",
    "                               ['https://www.bworldonline.com/markets/', 'Markets', lstpg_li[i]]) for i in range(0, len(lstpg_li))]\n",
    "        for f in concurrent.futures.as_completed(futures):\n",
    "            output += 1\n",
    "    return\n",
    "\n",
    "\n",
    "newsMarkets = 'https://www.bworldonline.com/markets/'"
   ]
  },
  {
   "cell_type": "code",
   "execution_count": 3,
   "id": "d06f9753",
   "metadata": {},
   "outputs": [
    {
     "name": "stdout",
     "output_type": "stream",
     "text": [
      "None\n",
      "Parallel elapsed time: 8.07 mins\n"
     ]
    }
   ],
   "source": [
    "start = time.time()\n",
    "markets = par_main_Markets(newsMarkets)\n",
    "par_time = time.time() - start\n",
    "print(markets)\n",
    "#print(f\"Parallel Output: {len(test)}\")\n",
    "print(f\"Parallel elapsed time: {round(par_time/60, 2)} mins\")"
   ]
  },
  {
   "cell_type": "markdown",
   "id": "0f1a2b5e",
   "metadata": {},
   "source": [
    "### "
   ]
  }
 ],
 "metadata": {
  "kernelspec": {
   "display_name": "Python 3",
   "language": "python",
   "name": "python3"
  },
  "language_info": {
   "codemirror_mode": {
    "name": "ipython",
    "version": 3
   },
   "file_extension": ".py",
   "mimetype": "text/x-python",
   "name": "python",
   "nbconvert_exporter": "python",
   "pygments_lexer": "ipython3",
   "version": "3.8.8"
  }
 },
 "nbformat": 4,
 "nbformat_minor": 5
}
