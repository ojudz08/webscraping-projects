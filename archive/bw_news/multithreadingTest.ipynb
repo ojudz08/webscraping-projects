{
 "cells": [
  {
   "cell_type": "code",
   "execution_count": null,
   "id": "7e927b72",
   "metadata": {},
   "outputs": [],
   "source": [
    "import urllib.request\n",
    "from bs4 import BeautifulSoup\n",
    "import requests\n",
    "\n",
    "import multiprocessing as mp\n",
    "import concurrent.futures\n",
    "\n",
    "import time\n",
    "import re\n",
    "import pandas as pd"
   ]
  },
  {
   "cell_type": "code",
   "execution_count": null,
   "id": "17146373",
   "metadata": {},
   "outputs": [],
   "source": [
    "def _parse_content(url):\n",
    "    headers = {'User-agent': 'Mozilla/5.0 (X11; Ubuntu; Linux x86_64; rv:61.0) Gecko/20100101 Firefox/61.0'}\n",
    "    content = BeautifulSoup(requests.get(url, headers).content, \n",
    "                            'html.parser')\n",
    "    return content\n",
    "\n",
    "def _get_article_b4(url_category):\n",
    "    \"\"\"helper function\"\"\"\n",
    "    url = url_category[0]\n",
    "    category = url_category[1]\n",
    "    ArtUrl = []\n",
    "    for pg in range(1, 6):\n",
    "        content = _parse_content(url + f\"page/{str(pg)}/\")\n",
    "        page = content.find('div', {'class': 'td-container td-category-container'})\n",
    "        next10 = page.find('div', {'class': 'td-ss-main-content'}).find_all('a', {'class': 'td-image-wrap'})\n",
    "        if pg == 1:\n",
    "            top5 = page.find('div', {'class': 'td-big-grid-wrapper'}).find_all('a', {'class': 'td-image-wrap'})\n",
    "            ArtUrl = ArtUrl + [item.get('href') for item in top5] + [item.get('href') for item in next10]\n",
    "        else:\n",
    "            ArtUrl = ArtUrl + [item.get('href') for item in next10]\n",
    "        dct = {\"Article Url\": ArtUrl, \"Category\": category}\n",
    "    df = pd.DataFrame.from_dict(dct)\n",
    "    return df\n",
    "\n",
    "def seq_main(news_url):\n",
    "    exclude = ['markets', 'buying rates', 'foreign interest rates', 'philippine mutual funds',\n",
    "               'leaders and laggards', 'stock quotes', 'stock markets summary',\n",
    "               'non-bsp convertible currencies', 'bsp convertible currencies', 'us commodity futures',\n",
    "               'health']\n",
    "    \n",
    "    content = _parse_content(news_url)\n",
    "\n",
    "    catContent = content.find('ul', {'id': 'menu-header-menu-1'}).find_all('a')\n",
    "    category = [item.text.title() for item in catContent if item.text.lower() not in exclude]\n",
    "    category_url = [item.get('href') for item in catContent if item.text.lower() not in exclude]\n",
    "    \n",
    "    pagetab = [_parse_content(url).find('span', {'class': 'pages'}).text for url in category_url]\n",
    "    lstpg = [int(re.sub(r'[^\\w\\s]', '', page[-(len(page) - 10):])) for page in pagetab]\n",
    "    \n",
    "    output = pd.DataFrame()\n",
    "    for i in range(0, len(category)):\n",
    "        df = _get_article_b4([category_url[i], category[i]])\n",
    "        output = pd.concat([output, df], axis=0)\n",
    "    return output\n",
    "\n",
    "\n",
    "def par_main(news_url):\n",
    "    exclude = ['markets', 'buying rates', 'foreign interest rates', 'philippine mutual funds',\n",
    "               'leaders and laggards', 'stock quotes', 'stock markets summary',\n",
    "               'non-bsp convertible currencies', 'bsp convertible currencies', 'us commodity futures',\n",
    "               'health']\n",
    "    \n",
    "    content = _parse_content(news_url)\n",
    "\n",
    "    catContent = content.find('ul', {'id': 'menu-header-menu-1'}).find_all('a')\n",
    "    category = [item.text.title() for item in catContent if item.text.lower() not in exclude]\n",
    "    category_url = [item.get('href') for item in catContent if item.text.lower() not in exclude]\n",
    "    \n",
    "    pagetab = [_parse_content(url).find('span', {'class': 'pages'}).text for url in category_url]\n",
    "    lstpg = [int(re.sub(r'[^\\w\\s]', '', page[-(len(page) - 10):])) for page in pagetab]\n",
    "    \n",
    "    output = pd.DataFrame()\n",
    "    with concurrent.futures.ThreadPoolExecutor() as pool:\n",
    "        futures = [pool.submit(_get_article_b4, [category_url[i], category[i]]) for i in range(0, len(category))]\n",
    "        for f in concurrent.futures.as_completed(futures):\n",
    "            output = pd.concat([output, f.result()], axis=0)\n",
    "    return output\n",
    "\n",
    "newsWeb = 'https://www.bworldonline.com/'\n",
    "dir_output = r'C:\\Users\\ojell\\Desktop\\Oj\\_Thesis\\Data\\news\\businessworld'"
   ]
  },
  {
   "cell_type": "code",
   "execution_count": null,
   "id": "a7b4040e",
   "metadata": {},
   "outputs": [],
   "source": [
    "start1 = time.time()\n",
    "test1 = seq_main(newsWeb)\n",
    "test1.to_csv(dir_output + r'\\test1.csv', index=False)\n",
    "seq_time = time.time() - start1\n",
    "print(f\"Sequential Output: {len(test1)}\")\n",
    "print(f\"Sequential elapsed time: {round(seq_time/60, 2)} mins\")"
   ]
  },
  {
   "cell_type": "code",
   "execution_count": null,
   "id": "d06f9753",
   "metadata": {},
   "outputs": [],
   "source": [
    "start2 = time.time()\n",
    "test2 = par_main(newsWeb)\n",
    "test2.to_csv(dir_output + r'\\test2.csv', index=False)\n",
    "par_time = time.time() - start2\n",
    "print(f\"Parallel Output: {len(test2)}\")\n",
    "print(f\"Parallel elapsed time: {round(par_time/60, 2)} mins\")"
   ]
  },
  {
   "cell_type": "code",
   "execution_count": null,
   "id": "a2bc452d",
   "metadata": {},
   "outputs": [],
   "source": [
    "print(f\"Speedup: {seq_time/par_time}\")\n",
    "print(f\"Efficiency: {100*(seq_time/par_time)/mp.cpu_count()}\")"
   ]
  },
  {
   "cell_type": "markdown",
   "id": "0f1a2b5e",
   "metadata": {},
   "source": [
    "### "
   ]
  }
 ],
 "metadata": {
  "kernelspec": {
   "display_name": "Python 3",
   "language": "python",
   "name": "python3"
  },
  "language_info": {
   "codemirror_mode": {
    "name": "ipython",
    "version": 3
   },
   "file_extension": ".py",
   "mimetype": "text/x-python",
   "name": "python",
   "nbconvert_exporter": "python",
   "pygments_lexer": "ipython3",
   "version": "3.8.8"
  }
 },
 "nbformat": 4,
 "nbformat_minor": 5
}
